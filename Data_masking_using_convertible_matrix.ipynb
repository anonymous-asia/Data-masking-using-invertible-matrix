{
  "nbformat": 4,
  "nbformat_minor": 0,
  "metadata": {
    "kernelspec": {
      "display_name": "Python 3",
      "language": "python",
      "name": "python3"
    },
    "language_info": {
      "codemirror_mode": {
        "name": "ipython",
        "version": 3
      },
      "file_extension": ".py",
      "mimetype": "text/x-python",
      "name": "python",
      "nbconvert_exporter": "python",
      "pygments_lexer": "ipython3",
      "version": "3.7.6"
    },
    "colab": {
      "name": "Data masking using convertible matrix.ipynb",
      "provenance": []
    }
  },
  "cells": [
    {
      "cell_type": "markdown",
      "metadata": {
        "id": "TQdrPME19iyB"
      },
      "source": [
        "The Sure Tomorrow insurance company wants to protect its clients' data. Your task is to develop a data transforming algorithm that would make it hard to recover personal information from the transformed data. Prove that the algorithm works correctly\n",
        "\n",
        "The data should be protected in such a way that the quality of machine learning models doesn't suffer. You don't need to pick the best model."
      ]
    },
    {
      "cell_type": "markdown",
      "metadata": {
        "id": "Oo4anQZx9iyB"
      },
      "source": [
        "## 1. Data downloading"
      ]
    },
    {
      "cell_type": "code",
      "metadata": {
        "id": "ZqMQBHw39iyC",
        "outputId": "35d11326-a750-428f-8738-0558de2f2f62"
      },
      "source": [
        "import pandas as pd\n",
        "import numpy as np\n",
        "from sklearn.model_selection import train_test_split\n",
        "from sklearn.linear_model import LinearRegression\n",
        "from sklearn.metrics import r2_score\n",
        "\n",
        "data=pd.read_csv('/datasets/insurance_us.csv')\n",
        "print(data.head())\n",
        "print(data.info())"
      ],
      "execution_count": null,
      "outputs": [
        {
          "output_type": "stream",
          "text": [
            "   Gender   Age   Salary  Family members  Insurance benefits\n",
            "0       1  41.0  49600.0               1                   0\n",
            "1       0  46.0  38000.0               1                   1\n",
            "2       0  29.0  21000.0               0                   0\n",
            "3       0  21.0  41700.0               2                   0\n",
            "4       1  28.0  26100.0               0                   0\n",
            "<class 'pandas.core.frame.DataFrame'>\n",
            "RangeIndex: 5000 entries, 0 to 4999\n",
            "Data columns (total 5 columns):\n",
            "Gender                5000 non-null int64\n",
            "Age                   5000 non-null float64\n",
            "Salary                5000 non-null float64\n",
            "Family members        5000 non-null int64\n",
            "Insurance benefits    5000 non-null int64\n",
            "dtypes: float64(2), int64(3)\n",
            "memory usage: 195.4 KB\n",
            "None\n"
          ],
          "name": "stdout"
        }
      ]
    },
    {
      "cell_type": "markdown",
      "metadata": {
        "id": "EdPDubYH9iyD"
      },
      "source": [
        "## 2. Multiplication of matrices"
      ]
    },
    {
      "cell_type": "markdown",
      "metadata": {
        "id": "iHO_2Z-U9iyE"
      },
      "source": [
        "In this task, you can write formulas in *Jupyter Notebook.*\n",
        "\n",
        "To write the formula in-between the text, frame it with dollar signs \\\\$; if it should be outside the text —  with double signs \\\\$\\\\$. These formulas are written in markup language *LaTeX.* \n",
        "\n",
        "For example, we wrote down linear regression formulas. You can copy and edit them to solve the task.\n",
        "\n",
        "You don't have to use *LaTeX*."
      ]
    },
    {
      "cell_type": "markdown",
      "metadata": {
        "id": "2BQSeKCQ9iyE"
      },
      "source": [
        "Denote:\n",
        "\n",
        "- $X$ — feature matrix (zero column consists of unities)\n",
        "\n",
        "- $y$ — target vector\n",
        "\n",
        "- $P$ — matrix by which the features are multiplied\n",
        "\n",
        "- $w$ — linear regression weight vector (zero element is equal to the shift)"
      ]
    },
    {
      "cell_type": "markdown",
      "metadata": {
        "id": "tVXTFiVI9iyF"
      },
      "source": [
        "Predictions:\n",
        "\n",
        "$$\n",
        "a = Xw\n",
        "$$\n",
        "\n",
        "Training objective:\n",
        "\n",
        "$$\n",
        "\\min_w d_2(Xw, y)\n",
        "$$\n",
        "\n",
        "Training formula:\n",
        "\n",
        "$$\n",
        "w = (X^T X)^{-1} X^T y\n",
        "$$"
      ]
    },
    {
      "cell_type": "markdown",
      "metadata": {
        "id": "Veyh8bxG9iyF"
      },
      "source": [
        "** Answer:** ...\n",
        "\n",
        "$$\n",
        "w = (X^T X)^{-1} X^T y\n",
        "$$\n",
        "$$\n",
        "w1= ((XP)^T XP)^{-1} (XP)^T y\n",
        "$$\n",
        "$$\n",
        "w1= ((P^TX^T XP)^{-1} P^TX^T y\n",
        "$$\n",
        "$$\n",
        "w1= (XP)^{-1}(P^TX^T)^{-1} P^TX^T y\n",
        "$$\n",
        "$$\n",
        "w1= P^{-1}X^{-1} (X^T)^{-1}(P^T)^{-1}P^TX^T y\n",
        "$$\n",
        "$$\n",
        "w1= P^{-1}(X^TX)^{-1}X^T y\n",
        "$$\n",
        "$$\n",
        "w1= P^{-1}w\n",
        "$$\n",
        "$$\n",
        "a1= XPw1\n",
        "$$\n",
        "$$\n",
        "a1= XPP^{-1}w\n",
        "$$\n",
        "$$\n",
        "a1= Xw\n",
        "$$\n",
        "$$\n",
        "a1= a\n",
        "$$\n",
        "\n",
        "** Justification:** ...\n",
        "\n",
        "Product of the invertible matrix and its inverse is equal to Identity matrix. Replacing those in the above equation solves the equation to a1=a, which means that predictions (a and a1) will remian same even if the features are multiplied by the invertible matrix.\n"
      ]
    },
    {
      "cell_type": "markdown",
      "metadata": {
        "id": "K9DYGXu59iyH"
      },
      "source": [
        "## 3. Transformation algorithm"
      ]
    },
    {
      "cell_type": "markdown",
      "metadata": {
        "id": "XWIEs7zi9iyH"
      },
      "source": [
        "** Algorithm**"
      ]
    },
    {
      "cell_type": "code",
      "metadata": {
        "id": "mwYkPsiF9iyH",
        "outputId": "5bd64bea-9d50-4364-dbcb-397de2c2b431"
      },
      "source": [
        "#creating a random matrix\n",
        "\n",
        "P=np.random.normal(size=(4,4))\n",
        "print(P)\n",
        "\n",
        "#checking if the matrix is invertible\n",
        "np.linalg.inv(P)\n",
        "\n",
        "features=data.drop('Insurance benefits', axis=1)\n",
        "target=data['Insurance benefits']\n",
        "\n",
        "#masking the original data by multiplying the data with the invertible matrix\n",
        "X1=np.dot(features,P)\n",
        "print(X1)"
      ],
      "execution_count": null,
      "outputs": [
        {
          "output_type": "stream",
          "text": [
            "[[ 0.14068234  1.39989287  0.09900651 -0.80568628]\n",
            " [-0.56985407 -0.57874414  0.28882811 -0.56369694]\n",
            " [ 1.1240096   0.02333567 -0.5541411   2.40318778]\n",
            " [-1.34731741 -1.02852514  0.21619226  0.77710822]]\n",
            "[[ 55726.30572678   1134.09214364 -27473.24148037 119174.97357161]\n",
            " [ 42684.80436287    859.10474551 -21043.85956964  91295.98256355]\n",
            " [ 23587.67592451    473.26551264 -11628.58711519  50450.59609943]\n",
            " ...\n",
            " [ 38089.83387331    777.44731661 -18779.17439221  81458.34590768]\n",
            " [ 36738.6760048     748.65839075 -18113.31221551  78573.36460371]\n",
            " [ 45617.62739003    931.59477773 -22489.72633277  97553.61164154]]\n"
          ],
          "name": "stdout"
        }
      ]
    },
    {
      "cell_type": "markdown",
      "metadata": {
        "id": "Xs67QRoa9iyI"
      },
      "source": [
        "** Justification**\n",
        "\n",
        "Based on the above solved equation, even if the features are multiplied by an invertible matrix, the predictions remain same. Hence, created a random invertible matrix P and multiplied it by the features of the data. This will mask the original data, however the predictions will be unaffected."
      ]
    },
    {
      "cell_type": "markdown",
      "metadata": {
        "id": "YxtWZtgA9iyI"
      },
      "source": [
        "## 4. Algorithm test"
      ]
    },
    {
      "cell_type": "code",
      "metadata": {
        "id": "ZfhfVTbd9iyI",
        "outputId": "6d29b75d-7bd8-45fa-f290-9f10a879dd45"
      },
      "source": [
        "#spliting the data into train and test set\n",
        "\n",
        "features_train, features_valid, target_train, target_valid = train_test_split(features, target, test_size=0.25, random_state=12345)\n",
        "\n",
        "#Linear regression on the original dataset\n",
        "model=LinearRegression()\n",
        "model.fit(features_train, target_train)\n",
        "predicted=model.predict(features_valid)\n",
        "print(\"R2 =\", r2_score(target_valid, predicted))"
      ],
      "execution_count": null,
      "outputs": [
        {
          "output_type": "stream",
          "text": [
            "R2 = 0.435227571270266\n"
          ],
          "name": "stdout"
        }
      ]
    },
    {
      "cell_type": "code",
      "metadata": {
        "id": "CCcuX0fE9iyJ",
        "outputId": "43e44fc2-572b-404b-f727-91711134096f"
      },
      "source": [
        "#spliting the masked data into train and test set\n",
        "\n",
        "trans_features_train, trans_features_valid, trans_target_train, trans_target_valid=train_test_split(X1, target, test_size=0.25, random_state=12345)\n",
        "\n",
        "#Linear regression on the masked dataset\n",
        "model_mask=LinearRegression()\n",
        "model_mask.fit(trans_features_train, trans_target_train)\n",
        "predicted_mask=model_mask.predict(trans_features_valid)\n",
        "print(\"R2_mask =\", r2_score(trans_target_valid, predicted_mask))\n"
      ],
      "execution_count": null,
      "outputs": [
        {
          "output_type": "stream",
          "text": [
            "R2_mask = 0.43522757127197365\n"
          ],
          "name": "stdout"
        }
      ]
    },
    {
      "cell_type": "markdown",
      "metadata": {
        "id": "nJWInbhZ9iyJ"
      },
      "source": [
        "Target prediction was done for both original and the masked data. The r2_score for both the datasets is same, hence this proves that if data is multipled with an invertible matrix, then it does not impact the predictions.\n",
        "\n",
        "This way, the original data is masked and the quality of machine learning models doesn't suffer. "
      ]
    }
  ]
}